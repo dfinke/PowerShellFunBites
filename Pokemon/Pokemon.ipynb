{
 "cells": [
  {
   "cell_type": "markdown",
   "metadata": {},
   "source": [
    "# PowerShell Fun Bites\n",
    "## New Pokémon across early generations"
   ]
  },
  {
   "cell_type": "code",
   "execution_count": 1,
   "metadata": {},
   "source": [
    "#!pwsh\n",
    "# https://twitter.com/pythonvscode/status/1329571386843557888?s\n",
    "\n",
    "$c = 1\n",
    "$generations = 1..4 | ForEach-Object {    \n",
    "    (Invoke-RestMethod -Uri (\"https://raw.githubusercontent.com/paladique/Sample-PokeNotebook/main/data/Pokemon_Generation{0}.json\" -f $_)).pokemon_species | \n",
    "    Add-Member -Name GenerationName -PassThru -Value (\"generation \" + $c++) -MemberType NoteProperty\n",
    "}\n",
    "\n",
    "$results = $generations | Group-Object GenerationName -NoElement\n",
    "\n",
    "$results\n",
    ""
   ],
   "outputs": [
    {
     "output_type": "execute_result",
     "data": {
      "text/plain": "\r\n"
     },
     "execution_count": 1,
     "metadata": {}
    },
    {
     "output_type": "execute_result",
     "data": {
      "text/plain": "Count Name\r\n"
     },
     "execution_count": 1,
     "metadata": {}
    },
    {
     "output_type": "execute_result",
     "data": {
      "text/plain": "----- ----\r\n"
     },
     "execution_count": 1,
     "metadata": {}
    },
    {
     "output_type": "execute_result",
     "data": {
      "text/plain": "  151 generation 1\r\n"
     },
     "execution_count": 1,
     "metadata": {}
    },
    {
     "output_type": "execute_result",
     "data": {
      "text/plain": "  100 generation 2\r\n"
     },
     "execution_count": 1,
     "metadata": {}
    },
    {
     "output_type": "execute_result",
     "data": {
      "text/plain": "  135 generation 3\r\n"
     },
     "execution_count": 1,
     "metadata": {}
    },
    {
     "output_type": "execute_result",
     "data": {
      "text/plain": "  107 generation 4\r\n"
     },
     "execution_count": 1,
     "metadata": {}
    },
    {
     "output_type": "execute_result",
     "data": {
      "text/plain": "\r\n"
     },
     "execution_count": 1,
     "metadata": {}
    }
   ]
  },
  {
   "cell_type": "code",
   "execution_count": 1,
   "metadata": {},
   "source": [
    "#!pwsh\n",
    "$chart = [Graph.Bar]::new()\n",
    "$chart.x = $results | ForEach-Object { $_.count }\n",
    "$chart.y = $results.Name\n",
    "$chart.orientation='h'\n",
    "\n",
    "$chart | New-PlotlyChart -Title \"New Pokémon introduced per generation\" | Out-Display"
   ],
   "outputs": [
    {
     "output_type": "execute_result",
     "data": {
      "text/html": "<div id=\"ae456e56-5cec-4c13-929c-24d581792ee0\" style=\"width: 900px; height: 500px;\"></div>\r\n<script type=\"text/javascript\">\r\n\r\nvar renderPlotly = function() {\r\n    var xplotRequire = require.config({context:'xplot-3.0.1',paths:{plotly:'https://cdn.plot.ly/plotly-1.49.2.min'}}) || require;\r\n    xplotRequire(['plotly'], function(Plotly) {\r\n\n            var data = [{\"type\":\"bar\",\"x\":[151,100,135,107],\"y\":[\"generation 1\",\"generation 2\",\"generation 3\",\"generation 4\"],\"orientation\":\"h\"}];\n            var layout = {\"title\":\"New Pokémon introduced per generation\"};\n            Plotly.newPlot('ae456e56-5cec-4c13-929c-24d581792ee0', data, layout);\n        \r\n});\r\n};\r\n// ensure `require` is available globally\r\nif ((typeof(require) !==  typeof(Function)) || (typeof(require.config) !== typeof(Function))) {\r\n    let require_script = document.createElement('script');\r\n    require_script.setAttribute('src', 'https://cdnjs.cloudflare.com/ajax/libs/require.js/2.3.6/require.min.js');\r\n    require_script.setAttribute('type', 'text/javascript');\r\n    \r\n    \r\n    require_script.onload = function() {\r\n        renderPlotly();\r\n    };\r\n\r\n    document.getElementsByTagName('head')[0].appendChild(require_script);\r\n}\r\nelse {\r\n    renderPlotly();\r\n}\r\n\r\n</script>\r\n"
     },
     "execution_count": 1,
     "metadata": {}
    }
   ]
  },
  {
   "cell_type": "markdown",
   "metadata": {},
   "source": [
    "## Results\n",
    "The query and graph show that a large number of Pokémon were introduced in the first and third generations."
   ]
  }
 ],
 "metadata": {
  "kernelspec": {
   "display_name": ".NET (C#)",
   "language": "C#",
   "name": ".net-csharp"
  },
  "language_info": {
   "file_extension": ".cs",
   "mimetype": "text/x-csharp",
   "name": "C#",
   "pygments_lexer": "csharp",
   "version": "8.0"
  }
 },
 "nbformat": 4,
 "nbformat_minor": 4
}